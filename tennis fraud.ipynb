{
 "cells": [
  {
   "cell_type": "code",
   "execution_count": 2,
   "id": "b0889dd5",
   "metadata": {},
   "outputs": [
    {
     "data": {
      "text/html": [
       "<div>\n",
       "<style scoped>\n",
       "    .dataframe tbody tr th:only-of-type {\n",
       "        vertical-align: middle;\n",
       "    }\n",
       "\n",
       "    .dataframe tbody tr th {\n",
       "        vertical-align: top;\n",
       "    }\n",
       "\n",
       "    .dataframe thead th {\n",
       "        text-align: right;\n",
       "    }\n",
       "</style>\n",
       "<table border=\"1\" class=\"dataframe\">\n",
       "  <thead>\n",
       "    <tr style=\"text-align: right;\">\n",
       "      <th></th>\n",
       "      <th>match</th>\n",
       "      <th>id</th>\n",
       "      <th>année</th>\n",
       "      <th>P_gagnant_début</th>\n",
       "      <th>P_gagnant_fin</th>\n",
       "      <th>perdant</th>\n",
       "      <th>gagnant</th>\n",
       "    </tr>\n",
       "  </thead>\n",
       "  <tbody>\n",
       "    <tr>\n",
       "      <th>0</th>\n",
       "      <td>M1</td>\n",
       "      <td>pari1</td>\n",
       "      <td>2009</td>\n",
       "      <td>0.560000</td>\n",
       "      <td>0.537634</td>\n",
       "      <td>J1</td>\n",
       "      <td>J2</td>\n",
       "    </tr>\n",
       "    <tr>\n",
       "      <th>1</th>\n",
       "      <td>M1</td>\n",
       "      <td>pari2</td>\n",
       "      <td>2009</td>\n",
       "      <td>0.572917</td>\n",
       "      <td>0.552632</td>\n",
       "      <td>J1</td>\n",
       "      <td>J2</td>\n",
       "    </tr>\n",
       "    <tr>\n",
       "      <th>2</th>\n",
       "      <td>M1</td>\n",
       "      <td>pari3</td>\n",
       "      <td>2009</td>\n",
       "      <td>0.568123</td>\n",
       "      <td>0.563910</td>\n",
       "      <td>J1</td>\n",
       "      <td>J2</td>\n",
       "    </tr>\n",
       "    <tr>\n",
       "      <th>3</th>\n",
       "      <td>M1</td>\n",
       "      <td>pari4</td>\n",
       "      <td>2009</td>\n",
       "      <td>0.608696</td>\n",
       "      <td>0.589005</td>\n",
       "      <td>J1</td>\n",
       "      <td>J2</td>\n",
       "    </tr>\n",
       "    <tr>\n",
       "      <th>4</th>\n",
       "      <td>M2</td>\n",
       "      <td>pari5</td>\n",
       "      <td>2009</td>\n",
       "      <td>0.543011</td>\n",
       "      <td>0.555256</td>\n",
       "      <td>J2</td>\n",
       "      <td>J3</td>\n",
       "    </tr>\n",
       "  </tbody>\n",
       "</table>\n",
       "</div>"
      ],
      "text/plain": [
       "  match     id  année  P_gagnant_début  P_gagnant_fin perdant gagnant\n",
       "0    M1  pari1   2009         0.560000       0.537634      J1      J2\n",
       "1    M1  pari2   2009         0.572917       0.552632      J1      J2\n",
       "2    M1  pari3   2009         0.568123       0.563910      J1      J2\n",
       "3    M1  pari4   2009         0.608696       0.589005      J1      J2\n",
       "4    M2  pari5   2009         0.543011       0.555256      J2      J3"
      ]
     },
     "execution_count": 2,
     "metadata": {},
     "output_type": "execute_result"
    }
   ],
   "source": [
    "import pandas as pa\n",
    "\n",
    "T = pa.read_csv(r'C:\\Users\\julia\\Documents\\python36\\datasource\\data\\tennis.csv')\n",
    "T.head()"
   ]
  },
  {
   "cell_type": "code",
   "execution_count": 3,
   "id": "651311ac",
   "metadata": {},
   "outputs": [
    {
     "data": {
      "text/plain": [
       "126461"
      ]
     },
     "execution_count": 3,
     "metadata": {},
     "output_type": "execute_result"
    }
   ],
   "source": [
    "len(T)"
   ]
  },
  {
   "cell_type": "code",
   "execution_count": 8,
   "id": "ac670edc",
   "metadata": {},
   "outputs": [
    {
     "data": {
      "text/html": [
       "<div>\n",
       "<style scoped>\n",
       "    .dataframe tbody tr th:only-of-type {\n",
       "        vertical-align: middle;\n",
       "    }\n",
       "\n",
       "    .dataframe tbody tr th {\n",
       "        vertical-align: top;\n",
       "    }\n",
       "\n",
       "    .dataframe thead th {\n",
       "        text-align: right;\n",
       "    }\n",
       "</style>\n",
       "<table border=\"1\" class=\"dataframe\">\n",
       "  <thead>\n",
       "    <tr style=\"text-align: right;\">\n",
       "      <th></th>\n",
       "      <th>match</th>\n",
       "      <th>id</th>\n",
       "      <th>année</th>\n",
       "      <th>P_gagnant_début</th>\n",
       "      <th>P_gagnant_fin</th>\n",
       "      <th>perdant</th>\n",
       "      <th>gagnant</th>\n",
       "      <th>var_gagnant</th>\n",
       "    </tr>\n",
       "  </thead>\n",
       "  <tbody>\n",
       "    <tr>\n",
       "      <th>0</th>\n",
       "      <td>M1</td>\n",
       "      <td>pari1</td>\n",
       "      <td>2009</td>\n",
       "      <td>0.560000</td>\n",
       "      <td>0.537634</td>\n",
       "      <td>J1</td>\n",
       "      <td>J2</td>\n",
       "      <td>-0.022366</td>\n",
       "    </tr>\n",
       "    <tr>\n",
       "      <th>1</th>\n",
       "      <td>M1</td>\n",
       "      <td>pari2</td>\n",
       "      <td>2009</td>\n",
       "      <td>0.572917</td>\n",
       "      <td>0.552632</td>\n",
       "      <td>J1</td>\n",
       "      <td>J2</td>\n",
       "      <td>-0.020285</td>\n",
       "    </tr>\n",
       "    <tr>\n",
       "      <th>2</th>\n",
       "      <td>M1</td>\n",
       "      <td>pari3</td>\n",
       "      <td>2009</td>\n",
       "      <td>0.568123</td>\n",
       "      <td>0.563910</td>\n",
       "      <td>J1</td>\n",
       "      <td>J2</td>\n",
       "      <td>-0.004214</td>\n",
       "    </tr>\n",
       "    <tr>\n",
       "      <th>3</th>\n",
       "      <td>M1</td>\n",
       "      <td>pari4</td>\n",
       "      <td>2009</td>\n",
       "      <td>0.608696</td>\n",
       "      <td>0.589005</td>\n",
       "      <td>J1</td>\n",
       "      <td>J2</td>\n",
       "      <td>-0.019690</td>\n",
       "    </tr>\n",
       "    <tr>\n",
       "      <th>4</th>\n",
       "      <td>M2</td>\n",
       "      <td>pari5</td>\n",
       "      <td>2009</td>\n",
       "      <td>0.543011</td>\n",
       "      <td>0.555256</td>\n",
       "      <td>J2</td>\n",
       "      <td>J3</td>\n",
       "      <td>0.012245</td>\n",
       "    </tr>\n",
       "  </tbody>\n",
       "</table>\n",
       "</div>"
      ],
      "text/plain": [
       "  match     id  année  P_gagnant_début  P_gagnant_fin perdant gagnant  \\\n",
       "0    M1  pari1   2009         0.560000       0.537634      J1      J2   \n",
       "1    M1  pari2   2009         0.572917       0.552632      J1      J2   \n",
       "2    M1  pari3   2009         0.568123       0.563910      J1      J2   \n",
       "3    M1  pari4   2009         0.608696       0.589005      J1      J2   \n",
       "4    M2  pari5   2009         0.543011       0.555256      J2      J3   \n",
       "\n",
       "   var_gagnant  \n",
       "0    -0.022366  \n",
       "1    -0.020285  \n",
       "2    -0.004214  \n",
       "3    -0.019690  \n",
       "4     0.012245  "
      ]
     },
     "execution_count": 8,
     "metadata": {},
     "output_type": "execute_result"
    }
   ],
   "source": [
    "T['var_gagnant'] = T['P_gagnant_fin'] - T['P_gagnant_début']\n",
    "T.head()"
   ]
  },
  {
   "cell_type": "code",
   "execution_count": 9,
   "id": "57a3a571",
   "metadata": {},
   "outputs": [],
   "source": [
    "PMS = T.query('var_gagnant >= 0.1 or var_gagnant <= -0.1')"
   ]
  },
  {
   "cell_type": "code",
   "execution_count": 13,
   "id": "ab99930c",
   "metadata": {},
   "outputs": [
    {
     "data": {
      "text/html": [
       "<div>\n",
       "<style scoped>\n",
       "    .dataframe tbody tr th:only-of-type {\n",
       "        vertical-align: middle;\n",
       "    }\n",
       "\n",
       "    .dataframe tbody tr th {\n",
       "        vertical-align: top;\n",
       "    }\n",
       "\n",
       "    .dataframe thead th {\n",
       "        text-align: right;\n",
       "    }\n",
       "</style>\n",
       "<table border=\"1\" class=\"dataframe\">\n",
       "  <thead>\n",
       "    <tr style=\"text-align: right;\">\n",
       "      <th></th>\n",
       "      <th>match</th>\n",
       "      <th>id</th>\n",
       "      <th>année</th>\n",
       "      <th>P_gagnant_début</th>\n",
       "      <th>P_gagnant_fin</th>\n",
       "      <th>perdant</th>\n",
       "      <th>gagnant</th>\n",
       "      <th>var_gagnant</th>\n",
       "    </tr>\n",
       "  </thead>\n",
       "  <tbody>\n",
       "    <tr>\n",
       "      <th>173</th>\n",
       "      <td>M64</td>\n",
       "      <td>pari175</td>\n",
       "      <td>2009</td>\n",
       "      <td>0.704312</td>\n",
       "      <td>0.582090</td>\n",
       "      <td>J67</td>\n",
       "      <td>J68</td>\n",
       "      <td>-0.122223</td>\n",
       "    </tr>\n",
       "    <tr>\n",
       "      <th>179</th>\n",
       "      <td>M66</td>\n",
       "      <td>pari181</td>\n",
       "      <td>2009</td>\n",
       "      <td>0.631206</td>\n",
       "      <td>0.500000</td>\n",
       "      <td>J68</td>\n",
       "      <td>J70</td>\n",
       "      <td>-0.131206</td>\n",
       "    </tr>\n",
       "    <tr>\n",
       "      <th>343</th>\n",
       "      <td>M130</td>\n",
       "      <td>pari346</td>\n",
       "      <td>2009</td>\n",
       "      <td>0.391304</td>\n",
       "      <td>0.500000</td>\n",
       "      <td>J93</td>\n",
       "      <td>J125</td>\n",
       "      <td>0.108696</td>\n",
       "    </tr>\n",
       "    <tr>\n",
       "      <th>450</th>\n",
       "      <td>M171</td>\n",
       "      <td>pari454</td>\n",
       "      <td>2009</td>\n",
       "      <td>0.621103</td>\n",
       "      <td>0.500000</td>\n",
       "      <td>J156</td>\n",
       "      <td>J103</td>\n",
       "      <td>-0.121103</td>\n",
       "    </tr>\n",
       "    <tr>\n",
       "      <th>464</th>\n",
       "      <td>M176</td>\n",
       "      <td>pari469</td>\n",
       "      <td>2009</td>\n",
       "      <td>0.500000</td>\n",
       "      <td>0.386768</td>\n",
       "      <td>J100</td>\n",
       "      <td>J10</td>\n",
       "      <td>-0.113232</td>\n",
       "    </tr>\n",
       "  </tbody>\n",
       "</table>\n",
       "</div>"
      ],
      "text/plain": [
       "    match       id  année  P_gagnant_début  P_gagnant_fin perdant gagnant  \\\n",
       "173   M64  pari175   2009         0.704312       0.582090     J67     J68   \n",
       "179   M66  pari181   2009         0.631206       0.500000     J68     J70   \n",
       "343  M130  pari346   2009         0.391304       0.500000     J93    J125   \n",
       "450  M171  pari454   2009         0.621103       0.500000    J156    J103   \n",
       "464  M176  pari469   2009         0.500000       0.386768    J100     J10   \n",
       "\n",
       "     var_gagnant  \n",
       "173    -0.122223  \n",
       "179    -0.131206  \n",
       "343     0.108696  \n",
       "450    -0.121103  \n",
       "464    -0.113232  "
      ]
     },
     "execution_count": 13,
     "metadata": {},
     "output_type": "execute_result"
    }
   ],
   "source": [
    "MS = PMS.drop_duplicates(subset ='match')\n",
    "MS.head()"
   ]
  },
  {
   "cell_type": "code",
   "execution_count": 14,
   "id": "7e3b67c0",
   "metadata": {},
   "outputs": [
    {
     "data": {
      "text/plain": [
       "4298"
      ]
     },
     "execution_count": 14,
     "metadata": {},
     "output_type": "execute_result"
    }
   ],
   "source": [
    "len(PMS)"
   ]
  },
  {
   "cell_type": "code",
   "execution_count": 15,
   "id": "9601566f",
   "metadata": {},
   "outputs": [
    {
     "data": {
      "text/html": [
       "<div>\n",
       "<style scoped>\n",
       "    .dataframe tbody tr th:only-of-type {\n",
       "        vertical-align: middle;\n",
       "    }\n",
       "\n",
       "    .dataframe tbody tr th {\n",
       "        vertical-align: top;\n",
       "    }\n",
       "\n",
       "    .dataframe thead th {\n",
       "        text-align: right;\n",
       "    }\n",
       "</style>\n",
       "<table border=\"1\" class=\"dataframe\">\n",
       "  <thead>\n",
       "    <tr style=\"text-align: right;\">\n",
       "      <th></th>\n",
       "      <th>match</th>\n",
       "      <th>id</th>\n",
       "      <th>année</th>\n",
       "      <th>P_gagnant_début</th>\n",
       "      <th>P_gagnant_fin</th>\n",
       "      <th>perdant</th>\n",
       "      <th>gagnant</th>\n",
       "      <th>var_gagnant</th>\n",
       "    </tr>\n",
       "  </thead>\n",
       "  <tbody>\n",
       "    <tr>\n",
       "      <th>9546</th>\n",
       "      <td>M2815</td>\n",
       "      <td>pari9650</td>\n",
       "      <td>2010</td>\n",
       "      <td>0.463807</td>\n",
       "      <td>0.608696</td>\n",
       "      <td>J1</td>\n",
       "      <td>J44</td>\n",
       "      <td>0.144889</td>\n",
       "    </tr>\n",
       "    <tr>\n",
       "      <th>18162</th>\n",
       "      <td>M4695</td>\n",
       "      <td>pari18467</td>\n",
       "      <td>2010</td>\n",
       "      <td>0.570292</td>\n",
       "      <td>0.697674</td>\n",
       "      <td>J1</td>\n",
       "      <td>J34</td>\n",
       "      <td>0.127383</td>\n",
       "    </tr>\n",
       "    <tr>\n",
       "      <th>18922</th>\n",
       "      <td>M4851</td>\n",
       "      <td>pari19251</td>\n",
       "      <td>2010</td>\n",
       "      <td>0.688073</td>\n",
       "      <td>0.796460</td>\n",
       "      <td>J1</td>\n",
       "      <td>J24</td>\n",
       "      <td>0.108387</td>\n",
       "    </tr>\n",
       "    <tr>\n",
       "      <th>19729</th>\n",
       "      <td>M5017</td>\n",
       "      <td>pari20066</td>\n",
       "      <td>2010</td>\n",
       "      <td>0.540541</td>\n",
       "      <td>0.656098</td>\n",
       "      <td>J1</td>\n",
       "      <td>J15</td>\n",
       "      <td>0.115557</td>\n",
       "    </tr>\n",
       "    <tr>\n",
       "      <th>22716</th>\n",
       "      <td>M5648</td>\n",
       "      <td>pari23096</td>\n",
       "      <td>2011</td>\n",
       "      <td>0.345588</td>\n",
       "      <td>0.500000</td>\n",
       "      <td>J1</td>\n",
       "      <td>J142</td>\n",
       "      <td>0.154412</td>\n",
       "    </tr>\n",
       "    <tr>\n",
       "      <th>28107</th>\n",
       "      <td>M6945</td>\n",
       "      <td>pari28659</td>\n",
       "      <td>2011</td>\n",
       "      <td>0.250000</td>\n",
       "      <td>0.354680</td>\n",
       "      <td>J1</td>\n",
       "      <td>J66</td>\n",
       "      <td>0.104680</td>\n",
       "    </tr>\n",
       "    <tr>\n",
       "      <th>29254</th>\n",
       "      <td>M7209</td>\n",
       "      <td>pari29814</td>\n",
       "      <td>2011</td>\n",
       "      <td>0.421053</td>\n",
       "      <td>0.525606</td>\n",
       "      <td>J1</td>\n",
       "      <td>J15</td>\n",
       "      <td>0.104554</td>\n",
       "    </tr>\n",
       "    <tr>\n",
       "      <th>33296</th>\n",
       "      <td>M8137</td>\n",
       "      <td>pari33945</td>\n",
       "      <td>2011</td>\n",
       "      <td>0.410995</td>\n",
       "      <td>0.589005</td>\n",
       "      <td>J1</td>\n",
       "      <td>J225</td>\n",
       "      <td>0.178010</td>\n",
       "    </tr>\n",
       "    <tr>\n",
       "      <th>33992</th>\n",
       "      <td>M8292</td>\n",
       "      <td>pari34651</td>\n",
       "      <td>2011</td>\n",
       "      <td>0.578947</td>\n",
       "      <td>0.717391</td>\n",
       "      <td>J1</td>\n",
       "      <td>J176</td>\n",
       "      <td>0.138444</td>\n",
       "    </tr>\n",
       "    <tr>\n",
       "      <th>35898</th>\n",
       "      <td>M8736</td>\n",
       "      <td>pari36593</td>\n",
       "      <td>2011</td>\n",
       "      <td>0.578947</td>\n",
       "      <td>0.689655</td>\n",
       "      <td>J1</td>\n",
       "      <td>J143</td>\n",
       "      <td>0.110708</td>\n",
       "    </tr>\n",
       "    <tr>\n",
       "      <th>37633</th>\n",
       "      <td>M9135</td>\n",
       "      <td>pari38365</td>\n",
       "      <td>2012</td>\n",
       "      <td>0.477212</td>\n",
       "      <td>0.651106</td>\n",
       "      <td>J1</td>\n",
       "      <td>J88</td>\n",
       "      <td>0.173894</td>\n",
       "    </tr>\n",
       "    <tr>\n",
       "      <th>37974</th>\n",
       "      <td>M9212</td>\n",
       "      <td>pari38707</td>\n",
       "      <td>2012</td>\n",
       "      <td>0.486486</td>\n",
       "      <td>0.625000</td>\n",
       "      <td>J1</td>\n",
       "      <td>J229</td>\n",
       "      <td>0.138514</td>\n",
       "    </tr>\n",
       "    <tr>\n",
       "      <th>48026</th>\n",
       "      <td>M11487</td>\n",
       "      <td>pari49043</td>\n",
       "      <td>2012</td>\n",
       "      <td>0.421053</td>\n",
       "      <td>0.584416</td>\n",
       "      <td>J1</td>\n",
       "      <td>J281</td>\n",
       "      <td>0.163363</td>\n",
       "    </tr>\n",
       "    <tr>\n",
       "      <th>54070</th>\n",
       "      <td>M12806</td>\n",
       "      <td>pari55217</td>\n",
       "      <td>2012</td>\n",
       "      <td>0.510204</td>\n",
       "      <td>0.646512</td>\n",
       "      <td>J1</td>\n",
       "      <td>J348</td>\n",
       "      <td>0.136308</td>\n",
       "    </tr>\n",
       "    <tr>\n",
       "      <th>54944</th>\n",
       "      <td>M13003</td>\n",
       "      <td>pari56101</td>\n",
       "      <td>2012</td>\n",
       "      <td>0.551899</td>\n",
       "      <td>0.677852</td>\n",
       "      <td>J1</td>\n",
       "      <td>J307</td>\n",
       "      <td>0.125954</td>\n",
       "    </tr>\n",
       "  </tbody>\n",
       "</table>\n",
       "</div>"
      ],
      "text/plain": [
       "        match         id  année  P_gagnant_début  P_gagnant_fin perdant  \\\n",
       "9546    M2815   pari9650   2010         0.463807       0.608696      J1   \n",
       "18162   M4695  pari18467   2010         0.570292       0.697674      J1   \n",
       "18922   M4851  pari19251   2010         0.688073       0.796460      J1   \n",
       "19729   M5017  pari20066   2010         0.540541       0.656098      J1   \n",
       "22716   M5648  pari23096   2011         0.345588       0.500000      J1   \n",
       "28107   M6945  pari28659   2011         0.250000       0.354680      J1   \n",
       "29254   M7209  pari29814   2011         0.421053       0.525606      J1   \n",
       "33296   M8137  pari33945   2011         0.410995       0.589005      J1   \n",
       "33992   M8292  pari34651   2011         0.578947       0.717391      J1   \n",
       "35898   M8736  pari36593   2011         0.578947       0.689655      J1   \n",
       "37633   M9135  pari38365   2012         0.477212       0.651106      J1   \n",
       "37974   M9212  pari38707   2012         0.486486       0.625000      J1   \n",
       "48026  M11487  pari49043   2012         0.421053       0.584416      J1   \n",
       "54070  M12806  pari55217   2012         0.510204       0.646512      J1   \n",
       "54944  M13003  pari56101   2012         0.551899       0.677852      J1   \n",
       "\n",
       "      gagnant  var_gagnant  \n",
       "9546      J44     0.144889  \n",
       "18162     J34     0.127383  \n",
       "18922     J24     0.108387  \n",
       "19729     J15     0.115557  \n",
       "22716    J142     0.154412  \n",
       "28107     J66     0.104680  \n",
       "29254     J15     0.104554  \n",
       "33296    J225     0.178010  \n",
       "33992    J176     0.138444  \n",
       "35898    J143     0.110708  \n",
       "37633     J88     0.173894  \n",
       "37974    J229     0.138514  \n",
       "48026    J281     0.163363  \n",
       "54070    J348     0.136308  \n",
       "54944    J307     0.125954  "
      ]
     },
     "execution_count": 15,
     "metadata": {},
     "output_type": "execute_result"
    }
   ],
   "source": [
    "MPS_J1 = MS.query('perdant == \"J1\" and var_gagnant >0')\n",
    "MPS_J1"
   ]
  },
  {
   "cell_type": "code",
   "execution_count": 17,
   "id": "5016cd4c",
   "metadata": {},
   "outputs": [
    {
     "data": {
      "text/plain": [
       "15"
      ]
     },
     "execution_count": 17,
     "metadata": {},
     "output_type": "execute_result"
    }
   ],
   "source": [
    "np = len(MPS_J1)\n",
    "np"
   ]
  },
  {
   "cell_type": "code",
   "execution_count": 22,
   "id": "7a01f268",
   "metadata": {},
   "outputs": [
    {
     "data": {
      "text/html": [
       "<div>\n",
       "<style scoped>\n",
       "    .dataframe tbody tr th:only-of-type {\n",
       "        vertical-align: middle;\n",
       "    }\n",
       "\n",
       "    .dataframe tbody tr th {\n",
       "        vertical-align: top;\n",
       "    }\n",
       "\n",
       "    .dataframe thead th {\n",
       "        text-align: right;\n",
       "    }\n",
       "</style>\n",
       "<table border=\"1\" class=\"dataframe\">\n",
       "  <thead>\n",
       "    <tr style=\"text-align: right;\">\n",
       "      <th></th>\n",
       "      <th>match</th>\n",
       "      <th>id</th>\n",
       "      <th>année</th>\n",
       "      <th>P_gagnant_début</th>\n",
       "      <th>P_gagnant_fin</th>\n",
       "      <th>perdant</th>\n",
       "      <th>gagnant</th>\n",
       "      <th>var_gagnant</th>\n",
       "    </tr>\n",
       "  </thead>\n",
       "  <tbody>\n",
       "    <tr>\n",
       "      <th>12053</th>\n",
       "      <td>M3356</td>\n",
       "      <td>pari12208</td>\n",
       "      <td>2010</td>\n",
       "      <td>0.624365</td>\n",
       "      <td>0.494565</td>\n",
       "      <td>J54</td>\n",
       "      <td>J1</td>\n",
       "      <td>-0.129800</td>\n",
       "    </tr>\n",
       "    <tr>\n",
       "      <th>34344</th>\n",
       "      <td>M8381</td>\n",
       "      <td>pari35012</td>\n",
       "      <td>2011</td>\n",
       "      <td>0.384615</td>\n",
       "      <td>0.235867</td>\n",
       "      <td>J153</td>\n",
       "      <td>J1</td>\n",
       "      <td>-0.148748</td>\n",
       "    </tr>\n",
       "    <tr>\n",
       "      <th>34742</th>\n",
       "      <td>M8471</td>\n",
       "      <td>pari35413</td>\n",
       "      <td>2011</td>\n",
       "      <td>0.494681</td>\n",
       "      <td>0.394402</td>\n",
       "      <td>J32</td>\n",
       "      <td>J1</td>\n",
       "      <td>-0.100279</td>\n",
       "    </tr>\n",
       "  </tbody>\n",
       "</table>\n",
       "</div>"
      ],
      "text/plain": [
       "       match         id  année  P_gagnant_début  P_gagnant_fin perdant  \\\n",
       "12053  M3356  pari12208   2010         0.624365       0.494565     J54   \n",
       "34344  M8381  pari35012   2011         0.384615       0.235867    J153   \n",
       "34742  M8471  pari35413   2011         0.494681       0.394402     J32   \n",
       "\n",
       "      gagnant  var_gagnant  \n",
       "12053      J1    -0.129800  \n",
       "34344      J1    -0.148748  \n",
       "34742      J1    -0.100279  "
      ]
     },
     "execution_count": 22,
     "metadata": {},
     "output_type": "execute_result"
    }
   ],
   "source": [
    "MGS_J1 = MS.query('gagnant == \"J1\" and var_gagnant <0')\n",
    "MGS_J1"
   ]
  },
  {
   "cell_type": "code",
   "execution_count": 20,
   "id": "111cf0d8",
   "metadata": {},
   "outputs": [
    {
     "data": {
      "text/plain": [
       "[0.463806970509,\n",
       " 0.5702917771880001,\n",
       " 0.6880733944949999,\n",
       " 0.540540540541,\n",
       " 0.345588235294,\n",
       " 0.25,\n",
       " 0.421052631579,\n",
       " 0.410994764398,\n",
       " 0.578947368421,\n",
       " 0.578947368421,\n",
       " 0.477211796247,\n",
       " 0.486486486486,\n",
       " 0.421052631579,\n",
       " 0.510204081633,\n",
       " 0.551898734177]"
      ]
     },
     "execution_count": 20,
     "metadata": {},
     "output_type": "execute_result"
    }
   ],
   "source": [
    "LP = list(MPS_J1['P_gagnant_début'])\n",
    "LP"
   ]
  },
  {
   "cell_type": "code",
   "execution_count": 23,
   "id": "ff57a7a4",
   "metadata": {},
   "outputs": [
    {
     "data": {
      "text/plain": [
       "[0.375634517766, 0.615384615385, 0.505319148936]"
      ]
     },
     "execution_count": 23,
     "metadata": {},
     "output_type": "execute_result"
    }
   ],
   "source": [
    "LG = []\n",
    "for p in MGS_J1['P_gagnant_début']:\n",
    "    LG.append(1 - p)\n",
    "LG"
   ]
  },
  {
   "cell_type": "code",
   "execution_count": 29,
   "id": "1608b148",
   "metadata": {},
   "outputs": [
    {
     "data": {
      "text/plain": [
       "3"
      ]
     },
     "execution_count": 29,
     "metadata": {},
     "output_type": "execute_result"
    }
   ],
   "source": [
    "ng = len(MGS_J1)\n",
    "ng"
   ]
  },
  {
   "cell_type": "code",
   "execution_count": 28,
   "id": "cfe873f0",
   "metadata": {},
   "outputs": [
    {
     "data": {
      "text/plain": [
       "18"
      ]
     },
     "execution_count": 28,
     "metadata": {},
     "output_type": "execute_result"
    }
   ],
   "source": [
    "N = np + ng\n",
    "N"
   ]
  },
  {
   "cell_type": "code",
   "execution_count": 30,
   "id": "304b95cc",
   "metadata": {},
   "outputs": [],
   "source": [
    "L = LP + LG"
   ]
  },
  {
   "cell_type": "code",
   "execution_count": 31,
   "id": "7d4a875e",
   "metadata": {},
   "outputs": [
    {
     "data": {
      "text/plain": [
       "0.00245"
      ]
     },
     "execution_count": 31,
     "metadata": {},
     "output_type": "execute_result"
    }
   ],
   "source": [
    "from random import random\n",
    "c = 0\n",
    "for i in range(100000):\n",
    "    perdus = 0\n",
    "    for j in range(18):\n",
    "        if random() <= L[j]:\n",
    "            perdus += 1\n",
    "    if perdus >= 15:\n",
    "        c += 1\n",
    "f = c / 100000\n",
    "f"
   ]
  },
  {
   "cell_type": "markdown",
   "id": "d3dc96d4",
   "metadata": {},
   "source": [
    "# Fraud"
   ]
  },
  {
   "cell_type": "code",
   "execution_count": 35,
   "id": "7769efdd",
   "metadata": {},
   "outputs": [],
   "source": [
    "def perdus(joueur):\n",
    "    MPSJ = MS.query('perdant == @joueur and var_gagnant>0')\n",
    "    return list(MPSJ['P_gagnant_début'])"
   ]
  },
  {
   "cell_type": "code",
   "execution_count": 36,
   "id": "d5ab2814",
   "metadata": {},
   "outputs": [
    {
     "data": {
      "text/plain": [
       "[0.463806970509,\n",
       " 0.5702917771880001,\n",
       " 0.6880733944949999,\n",
       " 0.540540540541,\n",
       " 0.345588235294,\n",
       " 0.25,\n",
       " 0.421052631579,\n",
       " 0.410994764398,\n",
       " 0.578947368421,\n",
       " 0.578947368421,\n",
       " 0.477211796247,\n",
       " 0.486486486486,\n",
       " 0.421052631579,\n",
       " 0.510204081633,\n",
       " 0.551898734177]"
      ]
     },
     "execution_count": 36,
     "metadata": {},
     "output_type": "execute_result"
    }
   ],
   "source": [
    "perdus('J1')"
   ]
  },
  {
   "cell_type": "code",
   "execution_count": 38,
   "id": "d7e08c7e",
   "metadata": {},
   "outputs": [],
   "source": [
    "def gagnés(joueur):\n",
    "    MGSJ = MS.query('gagnant == @joueur and var_gagnant<0')\n",
    "    LG = []\n",
    "    for p in MGSJ['P_gagnant_début']:\n",
    "        LG.append(1-p)\n",
    "    return LG"
   ]
  },
  {
   "cell_type": "code",
   "execution_count": 39,
   "id": "60e12778",
   "metadata": {},
   "outputs": [
    {
     "data": {
      "text/plain": [
       "[0.375634517766, 0.615384615385, 0.505319148936]"
      ]
     },
     "execution_count": 39,
     "metadata": {},
     "output_type": "execute_result"
    }
   ],
   "source": [
    "gagnés('J1')"
   ]
  },
  {
   "cell_type": "code",
   "execution_count": 44,
   "id": "b8220d78",
   "metadata": {},
   "outputs": [],
   "source": [
    "import random\n",
    "\n",
    "def vraisemblance(joueur):\n",
    "    LP = perdus(joueur)\n",
    "    LG = gagnés(joueur)\n",
    "    L = LP + LG\n",
    "    N = len(L)\n",
    "    n = len(LP)\n",
    "    \n",
    "    c = 0\n",
    "    for i in range(100000):\n",
    "        m_perdus = 0\n",
    "        for j in range(N):\n",
    "            if random.random() <= L[j]:\n",
    "                m_perdus = m_perdus + 1\n",
    "        if m_perdus >= n:\n",
    "            c += 1\n",
    "    return c / 100000"
   ]
  },
  {
   "cell_type": "code",
   "execution_count": 45,
   "id": "c7705f7f",
   "metadata": {},
   "outputs": [
    {
     "data": {
      "text/plain": [
       "0.00197"
      ]
     },
     "execution_count": 45,
     "metadata": {},
     "output_type": "execute_result"
    }
   ],
   "source": [
    "vraisemblance('J1')"
   ]
  },
  {
   "cell_type": "code",
   "execution_count": 62,
   "id": "7e456ede",
   "metadata": {},
   "outputs": [],
   "source": [
    "R = list(MS['perdant']) + list(MS['gagnant'])\n",
    "L = []\n",
    "for joueur in R:\n",
    "    if joueur not in L:\n",
    "        L.append(joueur)\n",
    "\n",
    "LJS=[joueur for joueur in L if R.count(joueur)>=10]\n",
    "    "
   ]
  },
  {
   "cell_type": "code",
   "execution_count": 63,
   "id": "80f4d2e4",
   "metadata": {},
   "outputs": [
    {
     "data": {
      "text/plain": [
       "[('J67', 0.00012),\n",
       " ('J118', 0.02477),\n",
       " ('J84', 0.01616),\n",
       " ('J104', 0.00041),\n",
       " ('J243', 0.00019),\n",
       " ('J1', 0.00182),\n",
       " ('J102', 0.03991),\n",
       " ('J341', 0.01101),\n",
       " ('J310', 0.00555),\n",
       " ('J99', 0.04619),\n",
       " ('J15', 0.00571),\n",
       " ('J43', 0.03364),\n",
       " ('J124', 0.04143),\n",
       " ('J136', 0.03388),\n",
       " ('J177', 0.0187),\n",
       " ('J259', 0.02158),\n",
       " ('J108', 0.00271),\n",
       " ('J5', 0.00782),\n",
       " ('J112', 0.04939),\n",
       " ('J299', 0.00026),\n",
       " ('J295', 0.03287),\n",
       " ('J327', 0.02784)]"
      ]
     },
     "execution_count": 63,
     "metadata": {},
     "output_type": "execute_result"
    }
   ],
   "source": [
    "L = []\n",
    "for joueur in LJS:\n",
    "    v = vraisemblance(joueur)\n",
    "    if v <= 0.05:\n",
    "        L.append((joueur, v))\n",
    "L"
   ]
  },
  {
   "cell_type": "code",
   "execution_count": 64,
   "id": "185f4419",
   "metadata": {},
   "outputs": [
    {
     "data": {
      "text/plain": [
       "22"
      ]
     },
     "execution_count": 64,
     "metadata": {},
     "output_type": "execute_result"
    }
   ],
   "source": [
    "len(L)"
   ]
  },
  {
   "cell_type": "code",
   "execution_count": 66,
   "id": "cc8ab48c",
   "metadata": {},
   "outputs": [
    {
     "data": {
      "text/plain": [
       "0.014445173998686802"
      ]
     },
     "execution_count": 66,
     "metadata": {},
     "output_type": "execute_result"
    }
   ],
   "source": [
    "len(L)/1523\n"
   ]
  },
  {
   "cell_type": "code",
   "execution_count": null,
   "id": "a2fde667",
   "metadata": {},
   "outputs": [],
   "source": []
  }
 ],
 "metadata": {
  "kernelspec": {
   "display_name": "Python 3 (ipykernel)",
   "language": "python",
   "name": "python3"
  },
  "language_info": {
   "codemirror_mode": {
    "name": "ipython",
    "version": 3
   },
   "file_extension": ".py",
   "mimetype": "text/x-python",
   "name": "python",
   "nbconvert_exporter": "python",
   "pygments_lexer": "ipython3",
   "version": "3.9.16"
  }
 },
 "nbformat": 4,
 "nbformat_minor": 5
}
