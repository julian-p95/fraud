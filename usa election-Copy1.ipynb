{
 "cells": [
  {
   "cell_type": "code",
   "execution_count": 34,
   "id": "aa7c0f17-40c1-4716-bfe2-297473cf4e11",
   "metadata": {},
   "outputs": [
    {
     "data": {
      "text/html": [
       "<div>\n",
       "<style scoped>\n",
       "    .dataframe tbody tr th:only-of-type {\n",
       "        vertical-align: middle;\n",
       "    }\n",
       "\n",
       "    .dataframe tbody tr th {\n",
       "        vertical-align: top;\n",
       "    }\n",
       "\n",
       "    .dataframe thead th {\n",
       "        text-align: right;\n",
       "    }\n",
       "</style>\n",
       "<table border=\"1\" class=\"dataframe\">\n",
       "  <thead>\n",
       "    <tr style=\"text-align: right;\">\n",
       "      <th></th>\n",
       "      <th>State</th>\n",
       "      <th>ST</th>\n",
       "      <th>Fips</th>\n",
       "      <th>County</th>\n",
       "      <th>Trump</th>\n",
       "      <th>Clinton</th>\n",
       "      <th>Stein</th>\n",
       "    </tr>\n",
       "  </thead>\n",
       "  <tbody>\n",
       "    <tr>\n",
       "      <th>0</th>\n",
       "      <td>Georgia</td>\n",
       "      <td>GA</td>\n",
       "      <td>13089</td>\n",
       "      <td>DeKalb County, Georgia</td>\n",
       "      <td>47531</td>\n",
       "      <td>239131</td>\n",
       "      <td>0</td>\n",
       "    </tr>\n",
       "    <tr>\n",
       "      <th>1</th>\n",
       "      <td>Texas</td>\n",
       "      <td>TX</td>\n",
       "      <td>48487</td>\n",
       "      <td>Wilbarger County, Texas</td>\n",
       "      <td>3166</td>\n",
       "      <td>807</td>\n",
       "      <td>13</td>\n",
       "    </tr>\n",
       "    <tr>\n",
       "      <th>2</th>\n",
       "      <td>Virginia</td>\n",
       "      <td>VA</td>\n",
       "      <td>51111</td>\n",
       "      <td>Lunenburg County, Virginia</td>\n",
       "      <td>3206</td>\n",
       "      <td>2226</td>\n",
       "      <td>25</td>\n",
       "    </tr>\n",
       "    <tr>\n",
       "      <th>3</th>\n",
       "      <td>Georgia</td>\n",
       "      <td>GA</td>\n",
       "      <td>13297</td>\n",
       "      <td>Walton County, Georgia</td>\n",
       "      <td>31093</td>\n",
       "      <td>8279</td>\n",
       "      <td>0</td>\n",
       "    </tr>\n",
       "    <tr>\n",
       "      <th>4</th>\n",
       "      <td>North Carolina</td>\n",
       "      <td>NC</td>\n",
       "      <td>37011</td>\n",
       "      <td>Avery County, North Carolina</td>\n",
       "      <td>6226</td>\n",
       "      <td>1670</td>\n",
       "      <td>0</td>\n",
       "    </tr>\n",
       "  </tbody>\n",
       "</table>\n",
       "</div>"
      ],
      "text/plain": [
       "            State  ST   Fips                        County  Trump  Clinton  \\\n",
       "0         Georgia  GA  13089        DeKalb County, Georgia  47531   239131   \n",
       "1           Texas  TX  48487       Wilbarger County, Texas   3166      807   \n",
       "2        Virginia  VA  51111    Lunenburg County, Virginia   3206     2226   \n",
       "3         Georgia  GA  13297        Walton County, Georgia  31093     8279   \n",
       "4  North Carolina  NC  37011  Avery County, North Carolina   6226     1670   \n",
       "\n",
       "   Stein  \n",
       "0      0  \n",
       "1     13  \n",
       "2     25  \n",
       "3      0  \n",
       "4      0  "
      ]
     },
     "execution_count": 34,
     "metadata": {},
     "output_type": "execute_result"
    }
   ],
   "source": [
    "import pandas as pd\n",
    "import pylab as pl\n",
    "from random import choices\n",
    "\n",
    "pl.style.use('bmh')\n",
    "\n",
    "pd.options.mode.chained_assignment = None\n",
    "\n",
    "T=pd.read_csv(r'C:\\Users\\julia\\Documents\\python36\\datasource\\data\\benford_usa.csv', sep=';')\n",
    "T.head()"
   ]
  },
  {
   "cell_type": "code",
   "execution_count": 16,
   "id": "57f6446e-1b33-45fb-8f3c-f7e3887780fb",
   "metadata": {},
   "outputs": [
    {
     "data": {
      "text/html": [
       "<div>\n",
       "<style scoped>\n",
       "    .dataframe tbody tr th:only-of-type {\n",
       "        vertical-align: middle;\n",
       "    }\n",
       "\n",
       "    .dataframe tbody tr th {\n",
       "        vertical-align: top;\n",
       "    }\n",
       "\n",
       "    .dataframe thead th {\n",
       "        text-align: right;\n",
       "    }\n",
       "</style>\n",
       "<table border=\"1\" class=\"dataframe\">\n",
       "  <thead>\n",
       "    <tr style=\"text-align: right;\">\n",
       "      <th></th>\n",
       "      <th>State</th>\n",
       "      <th>ST</th>\n",
       "      <th>Fips</th>\n",
       "      <th>County</th>\n",
       "      <th>Trump</th>\n",
       "      <th>Clinton</th>\n",
       "      <th>Stein</th>\n",
       "    </tr>\n",
       "  </thead>\n",
       "  <tbody>\n",
       "    <tr>\n",
       "      <th>6</th>\n",
       "      <td>Michigan</td>\n",
       "      <td>MI</td>\n",
       "      <td>26037</td>\n",
       "      <td>Clinton County, Michigan</td>\n",
       "      <td>21635</td>\n",
       "      <td>16490</td>\n",
       "      <td>379</td>\n",
       "    </tr>\n",
       "    <tr>\n",
       "      <th>12</th>\n",
       "      <td>Michigan</td>\n",
       "      <td>MI</td>\n",
       "      <td>26013</td>\n",
       "      <td>Baraga County, Michigan</td>\n",
       "      <td>2158</td>\n",
       "      <td>1156</td>\n",
       "      <td>49</td>\n",
       "    </tr>\n",
       "    <tr>\n",
       "      <th>20</th>\n",
       "      <td>Pennsylvania</td>\n",
       "      <td>PA</td>\n",
       "      <td>42005</td>\n",
       "      <td>Armstrong County, Pennsylvania</td>\n",
       "      <td>22676</td>\n",
       "      <td>6849</td>\n",
       "      <td>136</td>\n",
       "    </tr>\n",
       "    <tr>\n",
       "      <th>26</th>\n",
       "      <td>Wisconsin</td>\n",
       "      <td>WI</td>\n",
       "      <td>55097</td>\n",
       "      <td>Portage County, Wisconsin</td>\n",
       "      <td>17310</td>\n",
       "      <td>18524</td>\n",
       "      <td>583</td>\n",
       "    </tr>\n",
       "    <tr>\n",
       "      <th>33</th>\n",
       "      <td>Wisconsin</td>\n",
       "      <td>WI</td>\n",
       "      <td>55039</td>\n",
       "      <td>Fond du Lac County, Wisconsin</td>\n",
       "      <td>31044</td>\n",
       "      <td>17391</td>\n",
       "      <td>449</td>\n",
       "    </tr>\n",
       "  </tbody>\n",
       "</table>\n",
       "</div>"
      ],
      "text/plain": [
       "           State  ST   Fips                          County  Trump  Clinton  \\\n",
       "6       Michigan  MI  26037        Clinton County, Michigan  21635    16490   \n",
       "12      Michigan  MI  26013         Baraga County, Michigan   2158     1156   \n",
       "20  Pennsylvania  PA  42005  Armstrong County, Pennsylvania  22676     6849   \n",
       "26     Wisconsin  WI  55097       Portage County, Wisconsin  17310    18524   \n",
       "33     Wisconsin  WI  55039   Fond du Lac County, Wisconsin  31044    17391   \n",
       "\n",
       "    Stein  \n",
       "6     379  \n",
       "12     49  \n",
       "20    136  \n",
       "26    583  \n",
       "33    449  "
      ]
     },
     "execution_count": 16,
     "metadata": {},
     "output_type": "execute_result"
    }
   ],
   "source": [
    "S=T.query('State in [\"Wisconsin\", \"Michigan\", \"Pennsylvania\"]')\n",
    "S.head()\n"
   ]
  },
  {
   "cell_type": "code",
   "execution_count": 17,
   "id": "81a7b685-eeb8-4b52-bd57-49d58f69cd00",
   "metadata": {},
   "outputs": [],
   "source": [
    "S=S.query('Trump>=10 and Clinton>=10 and Stein>=10')\n"
   ]
  },
  {
   "cell_type": "code",
   "execution_count": 18,
   "id": "35ea5c9d-5bfd-4035-b6c1-284c22c23f0d",
   "metadata": {},
   "outputs": [
    {
     "data": {
      "text/plain": [
       "220"
      ]
     },
     "execution_count": 18,
     "metadata": {},
     "output_type": "execute_result"
    }
   ],
   "source": [
    "len(S)"
   ]
  },
  {
   "cell_type": "code",
   "execution_count": 19,
   "id": "c0e68cf7-5a64-47a5-93d5-90b73eb84730",
   "metadata": {},
   "outputs": [],
   "source": [
    "def second_chiffre(n):\n",
    "    s=str(n)\n",
    "    return int(s[1])"
   ]
  },
  {
   "cell_type": "code",
   "execution_count": 20,
   "id": "ab53c5fa-d670-453c-8169-260ad99b2d21",
   "metadata": {},
   "outputs": [
    {
     "data": {
      "text/html": [
       "<div>\n",
       "<style scoped>\n",
       "    .dataframe tbody tr th:only-of-type {\n",
       "        vertical-align: middle;\n",
       "    }\n",
       "\n",
       "    .dataframe tbody tr th {\n",
       "        vertical-align: top;\n",
       "    }\n",
       "\n",
       "    .dataframe thead th {\n",
       "        text-align: right;\n",
       "    }\n",
       "</style>\n",
       "<table border=\"1\" class=\"dataframe\">\n",
       "  <thead>\n",
       "    <tr style=\"text-align: right;\">\n",
       "      <th></th>\n",
       "      <th>State</th>\n",
       "      <th>ST</th>\n",
       "      <th>Fips</th>\n",
       "      <th>County</th>\n",
       "      <th>Trump</th>\n",
       "      <th>Clinton</th>\n",
       "      <th>Stein</th>\n",
       "      <th>T_2</th>\n",
       "      <th>C_2</th>\n",
       "      <th>S_2</th>\n",
       "    </tr>\n",
       "  </thead>\n",
       "  <tbody>\n",
       "    <tr>\n",
       "      <th>6</th>\n",
       "      <td>Michigan</td>\n",
       "      <td>MI</td>\n",
       "      <td>26037</td>\n",
       "      <td>Clinton County, Michigan</td>\n",
       "      <td>21635</td>\n",
       "      <td>16490</td>\n",
       "      <td>379</td>\n",
       "      <td>1</td>\n",
       "      <td>6</td>\n",
       "      <td>7</td>\n",
       "    </tr>\n",
       "    <tr>\n",
       "      <th>12</th>\n",
       "      <td>Michigan</td>\n",
       "      <td>MI</td>\n",
       "      <td>26013</td>\n",
       "      <td>Baraga County, Michigan</td>\n",
       "      <td>2158</td>\n",
       "      <td>1156</td>\n",
       "      <td>49</td>\n",
       "      <td>1</td>\n",
       "      <td>1</td>\n",
       "      <td>9</td>\n",
       "    </tr>\n",
       "    <tr>\n",
       "      <th>20</th>\n",
       "      <td>Pennsylvania</td>\n",
       "      <td>PA</td>\n",
       "      <td>42005</td>\n",
       "      <td>Armstrong County, Pennsylvania</td>\n",
       "      <td>22676</td>\n",
       "      <td>6849</td>\n",
       "      <td>136</td>\n",
       "      <td>2</td>\n",
       "      <td>8</td>\n",
       "      <td>3</td>\n",
       "    </tr>\n",
       "    <tr>\n",
       "      <th>26</th>\n",
       "      <td>Wisconsin</td>\n",
       "      <td>WI</td>\n",
       "      <td>55097</td>\n",
       "      <td>Portage County, Wisconsin</td>\n",
       "      <td>17310</td>\n",
       "      <td>18524</td>\n",
       "      <td>583</td>\n",
       "      <td>7</td>\n",
       "      <td>8</td>\n",
       "      <td>8</td>\n",
       "    </tr>\n",
       "    <tr>\n",
       "      <th>33</th>\n",
       "      <td>Wisconsin</td>\n",
       "      <td>WI</td>\n",
       "      <td>55039</td>\n",
       "      <td>Fond du Lac County, Wisconsin</td>\n",
       "      <td>31044</td>\n",
       "      <td>17391</td>\n",
       "      <td>449</td>\n",
       "      <td>1</td>\n",
       "      <td>7</td>\n",
       "      <td>4</td>\n",
       "    </tr>\n",
       "  </tbody>\n",
       "</table>\n",
       "</div>"
      ],
      "text/plain": [
       "           State  ST   Fips                          County  Trump  Clinton  \\\n",
       "6       Michigan  MI  26037        Clinton County, Michigan  21635    16490   \n",
       "12      Michigan  MI  26013         Baraga County, Michigan   2158     1156   \n",
       "20  Pennsylvania  PA  42005  Armstrong County, Pennsylvania  22676     6849   \n",
       "26     Wisconsin  WI  55097       Portage County, Wisconsin  17310    18524   \n",
       "33     Wisconsin  WI  55039   Fond du Lac County, Wisconsin  31044    17391   \n",
       "\n",
       "    Stein  T_2  C_2  S_2  \n",
       "6     379    1    6    7  \n",
       "12     49    1    1    9  \n",
       "20    136    2    8    3  \n",
       "26    583    7    8    8  \n",
       "33    449    1    7    4  "
      ]
     },
     "execution_count": 20,
     "metadata": {},
     "output_type": "execute_result"
    }
   ],
   "source": [
    "S['T_2']=S['Trump'].apply(second_chiffre)\n",
    "S['C_2']=S['Clinton'].apply(second_chiffre)\n",
    "S['S_2']=S['Stein'].apply(second_chiffre)\n",
    "S.head()"
   ]
  },
  {
   "cell_type": "code",
   "execution_count": 21,
   "id": "72cccba5-47e0-4322-b73f-6286642240c3",
   "metadata": {},
   "outputs": [],
   "source": [
    "def effectifs(L):\n",
    "    return [L.count(k) for k in range(10)]"
   ]
  },
  {
   "cell_type": "code",
   "execution_count": 22,
   "id": "0c280bf2-f2d9-4541-8de3-8c7c4acf390a",
   "metadata": {},
   "outputs": [
    {
     "data": {
      "text/plain": [
       "[22, 31, 23, 24, 25, 23, 24, 21, 14, 13]"
      ]
     },
     "execution_count": 22,
     "metadata": {},
     "output_type": "execute_result"
    }
   ],
   "source": [
    "effectifs(list(S['T_2']))"
   ]
  },
  {
   "cell_type": "code",
   "execution_count": 23,
   "id": "a1f8de2d-e460-4296-bc71-8ce0f44a9d93",
   "metadata": {},
   "outputs": [
    {
     "data": {
      "text/html": [
       "<div>\n",
       "<style scoped>\n",
       "    .dataframe tbody tr th:only-of-type {\n",
       "        vertical-align: middle;\n",
       "    }\n",
       "\n",
       "    .dataframe tbody tr th {\n",
       "        vertical-align: top;\n",
       "    }\n",
       "\n",
       "    .dataframe thead th {\n",
       "        text-align: right;\n",
       "    }\n",
       "</style>\n",
       "<table border=\"1\" class=\"dataframe\">\n",
       "  <thead>\n",
       "    <tr style=\"text-align: right;\">\n",
       "      <th></th>\n",
       "      <th>Trump</th>\n",
       "      <th>Clinton</th>\n",
       "      <th>Stein</th>\n",
       "    </tr>\n",
       "  </thead>\n",
       "  <tbody>\n",
       "    <tr>\n",
       "      <th>0</th>\n",
       "      <td>22</td>\n",
       "      <td>19</td>\n",
       "      <td>24</td>\n",
       "    </tr>\n",
       "    <tr>\n",
       "      <th>1</th>\n",
       "      <td>31</td>\n",
       "      <td>25</td>\n",
       "      <td>30</td>\n",
       "    </tr>\n",
       "    <tr>\n",
       "      <th>2</th>\n",
       "      <td>23</td>\n",
       "      <td>27</td>\n",
       "      <td>14</td>\n",
       "    </tr>\n",
       "    <tr>\n",
       "      <th>3</th>\n",
       "      <td>24</td>\n",
       "      <td>20</td>\n",
       "      <td>21</td>\n",
       "    </tr>\n",
       "    <tr>\n",
       "      <th>4</th>\n",
       "      <td>25</td>\n",
       "      <td>23</td>\n",
       "      <td>36</td>\n",
       "    </tr>\n",
       "    <tr>\n",
       "      <th>5</th>\n",
       "      <td>23</td>\n",
       "      <td>20</td>\n",
       "      <td>6</td>\n",
       "    </tr>\n",
       "    <tr>\n",
       "      <th>6</th>\n",
       "      <td>24</td>\n",
       "      <td>27</td>\n",
       "      <td>24</td>\n",
       "    </tr>\n",
       "    <tr>\n",
       "      <th>7</th>\n",
       "      <td>21</td>\n",
       "      <td>24</td>\n",
       "      <td>14</td>\n",
       "    </tr>\n",
       "    <tr>\n",
       "      <th>8</th>\n",
       "      <td>14</td>\n",
       "      <td>21</td>\n",
       "      <td>23</td>\n",
       "    </tr>\n",
       "    <tr>\n",
       "      <th>9</th>\n",
       "      <td>13</td>\n",
       "      <td>14</td>\n",
       "      <td>28</td>\n",
       "    </tr>\n",
       "  </tbody>\n",
       "</table>\n",
       "</div>"
      ],
      "text/plain": [
       "   Trump  Clinton  Stein\n",
       "0     22       19     24\n",
       "1     31       25     30\n",
       "2     23       27     14\n",
       "3     24       20     21\n",
       "4     25       23     36\n",
       "5     23       20      6\n",
       "6     24       27     24\n",
       "7     21       24     14\n",
       "8     14       21     23\n",
       "9     13       14     28"
      ]
     },
     "execution_count": 23,
     "metadata": {},
     "output_type": "execute_result"
    }
   ],
   "source": [
    "E=pd.DataFrame()\n",
    "E['Trump']=effectifs(list(S['T_2']))\n",
    "E['Clinton']=effectifs(list(S['C_2']))\n",
    "E['Stein']=effectifs(list(S['S_2']))\n",
    "E"
   ]
  },
  {
   "cell_type": "markdown",
   "id": "68170ae3",
   "metadata": {},
   "source": [
    "# Benford"
   ]
  },
  {
   "cell_type": "code",
   "execution_count": 24,
   "id": "6238ecc6-6798-48d8-bf4d-6447316cca91",
   "metadata": {},
   "outputs": [],
   "source": [
    "F=[0.1197,\n",
    "0.1139, 0.1088,\n",
    "0.0967,\n",
    "0.0934,\n",
    "0.0904,\n",
    "0.1043,\n",
    "0.10030,\n",
    "0.0876,\n",
    "0.08491]"
   ]
  },
  {
   "cell_type": "code",
   "execution_count": 25,
   "id": "340bd40d",
   "metadata": {},
   "outputs": [
    {
     "data": {
      "text/html": [
       "<div>\n",
       "<style scoped>\n",
       "    .dataframe tbody tr th:only-of-type {\n",
       "        vertical-align: middle;\n",
       "    }\n",
       "\n",
       "    .dataframe tbody tr th {\n",
       "        vertical-align: top;\n",
       "    }\n",
       "\n",
       "    .dataframe thead th {\n",
       "        text-align: right;\n",
       "    }\n",
       "</style>\n",
       "<table border=\"1\" class=\"dataframe\">\n",
       "  <thead>\n",
       "    <tr style=\"text-align: right;\">\n",
       "      <th></th>\n",
       "      <th>Trump</th>\n",
       "      <th>Clinton</th>\n",
       "      <th>Stein</th>\n",
       "      <th>Benford</th>\n",
       "    </tr>\n",
       "  </thead>\n",
       "  <tbody>\n",
       "    <tr>\n",
       "      <th>0</th>\n",
       "      <td>22</td>\n",
       "      <td>19</td>\n",
       "      <td>24</td>\n",
       "      <td>26.3340</td>\n",
       "    </tr>\n",
       "    <tr>\n",
       "      <th>1</th>\n",
       "      <td>31</td>\n",
       "      <td>25</td>\n",
       "      <td>30</td>\n",
       "      <td>25.0580</td>\n",
       "    </tr>\n",
       "    <tr>\n",
       "      <th>2</th>\n",
       "      <td>23</td>\n",
       "      <td>27</td>\n",
       "      <td>14</td>\n",
       "      <td>23.9360</td>\n",
       "    </tr>\n",
       "    <tr>\n",
       "      <th>3</th>\n",
       "      <td>24</td>\n",
       "      <td>20</td>\n",
       "      <td>21</td>\n",
       "      <td>21.2740</td>\n",
       "    </tr>\n",
       "    <tr>\n",
       "      <th>4</th>\n",
       "      <td>25</td>\n",
       "      <td>23</td>\n",
       "      <td>36</td>\n",
       "      <td>20.5480</td>\n",
       "    </tr>\n",
       "    <tr>\n",
       "      <th>5</th>\n",
       "      <td>23</td>\n",
       "      <td>20</td>\n",
       "      <td>6</td>\n",
       "      <td>19.8880</td>\n",
       "    </tr>\n",
       "    <tr>\n",
       "      <th>6</th>\n",
       "      <td>24</td>\n",
       "      <td>27</td>\n",
       "      <td>24</td>\n",
       "      <td>22.9460</td>\n",
       "    </tr>\n",
       "    <tr>\n",
       "      <th>7</th>\n",
       "      <td>21</td>\n",
       "      <td>24</td>\n",
       "      <td>14</td>\n",
       "      <td>22.0660</td>\n",
       "    </tr>\n",
       "    <tr>\n",
       "      <th>8</th>\n",
       "      <td>14</td>\n",
       "      <td>21</td>\n",
       "      <td>23</td>\n",
       "      <td>19.2720</td>\n",
       "    </tr>\n",
       "    <tr>\n",
       "      <th>9</th>\n",
       "      <td>13</td>\n",
       "      <td>14</td>\n",
       "      <td>28</td>\n",
       "      <td>18.6802</td>\n",
       "    </tr>\n",
       "  </tbody>\n",
       "</table>\n",
       "</div>"
      ],
      "text/plain": [
       "   Trump  Clinton  Stein  Benford\n",
       "0     22       19     24  26.3340\n",
       "1     31       25     30  25.0580\n",
       "2     23       27     14  23.9360\n",
       "3     24       20     21  21.2740\n",
       "4     25       23     36  20.5480\n",
       "5     23       20      6  19.8880\n",
       "6     24       27     24  22.9460\n",
       "7     21       24     14  22.0660\n",
       "8     14       21     23  19.2720\n",
       "9     13       14     28  18.6802"
      ]
     },
     "execution_count": 25,
     "metadata": {},
     "output_type": "execute_result"
    }
   ],
   "source": [
    "E['Benford'] = [220 * p for p in F]\n",
    "E"
   ]
  },
  {
   "cell_type": "code",
   "execution_count": 28,
   "id": "832658c3",
   "metadata": {},
   "outputs": [
    {
     "data": {
      "text/plain": [
       "<matplotlib.legend.Legend at 0x25d247d26d0>"
      ]
     },
     "execution_count": 28,
     "metadata": {},
     "output_type": "execute_result"
    },
    {
     "data": {
      "image/png": "[encoded data removed]",
      "text/plain": [
       "<Figure size 648x360 with 1 Axes>"
      ]
     },
     "metadata": {
      "needs_background": "light"
     },
     "output_type": "display_data"
    }
   ],
   "source": [
    "E.plot.bar(figsize=(9, 5),\n",
    "           color=['red','blue', 'green','black'])\n",
    "pl.legend(bbox_to_anchor = (1,1), ncol=2)"
   ]
  },
  {
   "cell_type": "markdown",
   "id": "32b559a6",
   "metadata": {},
   "source": [
    "# Distance"
   ]
  },
  {
   "cell_type": "code",
   "execution_count": 29,
   "id": "f88aae61",
   "metadata": {},
   "outputs": [],
   "source": [
    "def distance(L1, L2):\n",
    "    D = 0\n",
    "    for k in range(10):\n",
    "        D = D + (L1[k] - L2[k]) ** 2\n",
    "    return D"
   ]
  },
  {
   "cell_type": "code",
   "execution_count": 32,
   "id": "6f1f796d",
   "metadata": {},
   "outputs": [
    {
     "data": {
      "text/plain": [
       "154.20886804"
      ]
     },
     "execution_count": 32,
     "metadata": {},
     "output_type": "execute_result"
    }
   ],
   "source": [
    "distance(E['Trump'], E['Benford'])"
   ]
  },
  {
   "cell_type": "code",
   "execution_count": 35,
   "id": "5868b3bb",
   "metadata": {},
   "outputs": [
    {
     "name": "stdout",
     "output_type": "stream",
     "text": [
      "[0, 3, 3, 2, 7, 8, 9, 1, 5, 8, 7, 3, 6, 0, 1, 1, 5, 1, 1, 5, 1, 9, 9, 3, 9, 5, 7, 1, 3, 6, 3, 0, 0, 7, 4, 7, 3, 0, 5, 3, 3, 7, 9, 6, 6, 9, 9, 0, 5, 2, 6, 4, 0, 0, 9, 7, 6, 4, 6, 4, 4, 5, 3, 7, 5, 2, 1, 1, 7, 4, 7, 3, 4, 9, 5, 3, 2, 0, 4, 6, 4, 3, 0, 5, 6, 4, 4, 7, 2, 1, 0, 7, 4, 7, 4, 1, 1, 5, 0, 1, 6, 3, 4, 2, 2, 7, 9, 7, 7, 8, 9, 7, 4, 6, 6, 7, 9, 2, 7, 8, 1, 0, 3, 0, 5, 1, 8, 5, 9, 9, 1, 1, 2, 6, 2, 0, 6, 1, 2, 1, 3, 2, 5, 4, 4, 0, 8, 0, 6, 4, 1, 5, 9, 8, 3, 2, 8, 0, 1, 0, 7, 9, 2, 8, 3, 7, 1, 0, 2, 0, 5, 1, 7, 0, 0, 7, 2, 7, 0, 7, 5, 8, 4, 0, 0, 6, 2, 5, 1, 0, 5, 2, 3, 4, 1, 5, 6, 8, 6, 9, 6, 9, 0, 6, 9, 2, 7, 8, 5, 2, 7, 7, 6, 3, 6, 6, 3, 5, 5, 0]\n"
     ]
    }
   ],
   "source": [
    "L = choices(range(10), F, k = 220)\n",
    "print(L)"
   ]
  },
  {
   "cell_type": "code",
   "execution_count": 36,
   "id": "719f5762",
   "metadata": {},
   "outputs": [],
   "source": [
    "def vraisemblance(candidat):\n",
    "    n = 0\n",
    "    TB = E['Benford']\n",
    "    TO = E[candidat]\n",
    "    DO = distance(TO.tolist(), TB.tolist())\n",
    "    for k in range(10000):\n",
    "        L = choices(range(10), k=220)\n",
    "        TS = effectifs(L)\n",
    "        DS = distance(TS, TB.tolist())\n",
    "        if DS >= DO:\n",
    "            n = n + 1\n",
    "    return n / 10000"
   ]
  },
  {
   "cell_type": "code",
   "execution_count": 37,
   "id": "b0f7fb2c",
   "metadata": {},
   "outputs": [
    {
     "data": {
      "text/plain": [
       "120.86246804"
      ]
     },
     "execution_count": 37,
     "metadata": {},
     "output_type": "execute_result"
    }
   ],
   "source": [
    "distance(effectifs(L), E['Benford'])"
   ]
  },
  {
   "cell_type": "code",
   "execution_count": 38,
   "id": "d96095e3",
   "metadata": {},
   "outputs": [
    {
     "name": "stdout",
     "output_type": "stream",
     "text": [
      "Trump 0.8039\n",
      "Clinton 0.9114\n",
      "Stein 0.002\n"
     ]
    }
   ],
   "source": [
    "for nom in ['Trump', 'Clinton', 'Stein']:\n",
    "    print(nom, vraisemblance(nom))"
   ]
  },
  {
   "cell_type": "code",
   "execution_count": null,
   "id": "43354bc2",
   "metadata": {},
   "outputs": [],
   "source": []
  }
 ],
 "metadata": {
  "kernelspec": {
   "display_name": "Python 3 (ipykernel)",
   "language": "python",
   "name": "python3"
  },
  "language_info": {
   "codemirror_mode": {
    "name": "ipython",
    "version": 3
   },
   "file_extension": ".py",
   "mimetype": "text/x-python",
   "name": "python",
   "nbconvert_exporter": "python",
   "pygments_lexer": "ipython3",
   "version": "3.9.12"
  }
 },
 "nbformat": 4,
 "nbformat_minor": 5
}
